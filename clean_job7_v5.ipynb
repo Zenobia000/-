{
 "cells": [
  {
   "cell_type": "code",
   "execution_count": 1,
   "id": "7a343c59",
   "metadata": {},
   "outputs": [],
   "source": [
    "import json\n",
    "import pandas as pd"
   ]
  },
  {
   "cell_type": "code",
   "execution_count": 2,
   "id": "ea60a414",
   "metadata": {},
   "outputs": [],
   "source": [
    "with open('job7_v2.json', 'r', encoding='utf-8') as infile:\n",
    "    jobs7 = json.load(infile)"
   ]
  },
  {
   "cell_type": "code",
   "execution_count": 7,
   "id": "56534114",
   "metadata": {},
   "outputs": [],
   "source": [
    "cate = []\n",
    "salary = []\n",
    "\n",
    "for i in range(len(jobs7)):\n",
    "    if jobs7[i][\"分類\"] != None and jobs7[i][\"工作待遇\"] != '待遇面議（經常性薪資達 4 萬元或以上）':\n",
    "        cate.append(int(jobs7[i][\"分類\"]))\n",
    "        salary.append(jobs7[i][\"工作待遇\"])"
   ]
  },
  {
   "cell_type": "code",
   "execution_count": 8,
   "id": "dba610a1",
   "metadata": {},
   "outputs": [],
   "source": [
    "cate_salary = pd.DataFrame({\n",
    "    'cate': cate,\n",
    "    'salary': salary\n",
    "})"
   ]
  },
  {
   "cell_type": "code",
   "execution_count": 9,
   "id": "e299006d",
   "metadata": {},
   "outputs": [
    {
     "data": {
      "text/html": [
       "<div>\n",
       "<style scoped>\n",
       "    .dataframe tbody tr th:only-of-type {\n",
       "        vertical-align: middle;\n",
       "    }\n",
       "\n",
       "    .dataframe tbody tr th {\n",
       "        vertical-align: top;\n",
       "    }\n",
       "\n",
       "    .dataframe thead th {\n",
       "        text-align: right;\n",
       "    }\n",
       "</style>\n",
       "<table border=\"1\" class=\"dataframe\">\n",
       "  <thead>\n",
       "    <tr style=\"text-align: right;\">\n",
       "      <th></th>\n",
       "      <th>cate</th>\n",
       "      <th>salary</th>\n",
       "    </tr>\n",
       "  </thead>\n",
       "  <tbody>\n",
       "    <tr>\n",
       "      <th>0</th>\n",
       "      <td>1</td>\n",
       "      <td>130769</td>\n",
       "    </tr>\n",
       "    <tr>\n",
       "      <th>1</th>\n",
       "      <td>4</td>\n",
       "      <td>65000</td>\n",
       "    </tr>\n",
       "    <tr>\n",
       "      <th>2</th>\n",
       "      <td>1</td>\n",
       "      <td>77500</td>\n",
       "    </tr>\n",
       "    <tr>\n",
       "      <th>3</th>\n",
       "      <td>0</td>\n",
       "      <td>60000</td>\n",
       "    </tr>\n",
       "    <tr>\n",
       "      <th>4</th>\n",
       "      <td>3</td>\n",
       "      <td>45000</td>\n",
       "    </tr>\n",
       "    <tr>\n",
       "      <th>...</th>\n",
       "      <td>...</td>\n",
       "      <td>...</td>\n",
       "    </tr>\n",
       "    <tr>\n",
       "      <th>17145</th>\n",
       "      <td>2</td>\n",
       "      <td>45000</td>\n",
       "    </tr>\n",
       "    <tr>\n",
       "      <th>17146</th>\n",
       "      <td>3</td>\n",
       "      <td>41000</td>\n",
       "    </tr>\n",
       "    <tr>\n",
       "      <th>17147</th>\n",
       "      <td>3</td>\n",
       "      <td>45000</td>\n",
       "    </tr>\n",
       "    <tr>\n",
       "      <th>17148</th>\n",
       "      <td>3</td>\n",
       "      <td>62500</td>\n",
       "    </tr>\n",
       "    <tr>\n",
       "      <th>17149</th>\n",
       "      <td>2</td>\n",
       "      <td>45000</td>\n",
       "    </tr>\n",
       "  </tbody>\n",
       "</table>\n",
       "<p>17150 rows × 2 columns</p>\n",
       "</div>"
      ],
      "text/plain": [
       "       cate  salary\n",
       "0         1  130769\n",
       "1         4   65000\n",
       "2         1   77500\n",
       "3         0   60000\n",
       "4         3   45000\n",
       "...     ...     ...\n",
       "17145     2   45000\n",
       "17146     3   41000\n",
       "17147     3   45000\n",
       "17148     3   62500\n",
       "17149     2   45000\n",
       "\n",
       "[17150 rows x 2 columns]"
      ]
     },
     "execution_count": 9,
     "metadata": {},
     "output_type": "execute_result"
    }
   ],
   "source": [
    "cate_salary"
   ]
  },
  {
   "cell_type": "code",
   "execution_count": 13,
   "id": "f3ec7829",
   "metadata": {},
   "outputs": [],
   "source": [
    "cate_salary.to_csv('cate_salary.csv', encoding='utf-8')"
   ]
  }
 ],
 "metadata": {
  "kernelspec": {
   "display_name": "Python 3 (ipykernel)",
   "language": "python",
   "name": "python3"
  },
  "language_info": {
   "codemirror_mode": {
    "name": "ipython",
    "version": 3
   },
   "file_extension": ".py",
   "mimetype": "text/x-python",
   "name": "python",
   "nbconvert_exporter": "python",
   "pygments_lexer": "ipython3",
   "version": "3.9.13"
  }
 },
 "nbformat": 4,
 "nbformat_minor": 5
}
