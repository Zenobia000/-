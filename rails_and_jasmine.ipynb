{
 "cells": [
  {
   "cell_type": "code",
   "execution_count": 2,
   "id": "7a343c59",
   "metadata": {},
   "outputs": [],
   "source": [
    "import json\n",
    "import pandas as pd\n",
    "import collections"
   ]
  },
  {
   "cell_type": "code",
   "execution_count": 2,
   "id": "ea60a414",
   "metadata": {},
   "outputs": [],
   "source": [
    "with open('job7_v3.json', 'r', encoding='utf-8') as infile:\n",
    "    jobs7 = json.load(infile)"
   ]
  },
  {
   "cell_type": "code",
   "execution_count": 3,
   "id": "56534114",
   "metadata": {},
   "outputs": [],
   "source": [
    "rails_json = []\n",
    "jasmine_json = []\n",
    "\n",
    "for i in range(len(jobs7)):\n",
    "    if jobs7[i]['擅長工具'] == None or jobs7[i]['工作待遇'] == '待遇面議（經常性薪資達 4 萬元或以上）':\n",
    "        continue\n",
    "    if 'Rails' in jobs7[i]['擅長工具']:\n",
    "        rails_json.append(jobs7[i])\n",
    "    if 'Jasmine' in jobs7[i]['擅長工具']:\n",
    "        jasmine_json.append(jobs7[i])"
   ]
  },
  {
   "cell_type": "code",
   "execution_count": 15,
   "id": "dec13129",
   "metadata": {},
   "outputs": [],
   "source": [
    "with open('rails/rails.json', 'w', encoding='utf-8') as output_file:\n",
    "    json.dump(rails_json, output_file, ensure_ascii=False, indent=4)"
   ]
  },
  {
   "cell_type": "code",
   "execution_count": 16,
   "id": "b2a0e800",
   "metadata": {},
   "outputs": [],
   "source": [
    "with open('jasmine.json', 'w', encoding='utf-8') as output_file:\n",
    "    json.dump(jasmine_json, output_file, ensure_ascii=False, indent=4)"
   ]
  },
  {
   "cell_type": "code",
   "execution_count": null,
   "id": "e5ae7708",
   "metadata": {},
   "outputs": [],
   "source": [
    "#rails "
   ]
  },
  {
   "cell_type": "code",
   "execution_count": 17,
   "id": "2265cc15",
   "metadata": {
    "scrolled": true
   },
   "outputs": [
    {
     "data": {
      "text/plain": [
       "77"
      ]
     },
     "execution_count": 17,
     "metadata": {},
     "output_type": "execute_result"
    }
   ],
   "source": [
    "len(rails_json)"
   ]
  },
  {
   "cell_type": "code",
   "execution_count": 26,
   "id": "af49fb63",
   "metadata": {},
   "outputs": [],
   "source": [
    "idn = []\n",
    "edu = []\n",
    "sal = []\n",
    "exp = []\n",
    "pro = []\n",
    "tool = []\n",
    "depart = []\n",
    "cate = []\n",
    "\n",
    "for i in range(len(rails_json)):\n",
    "    idn.append(rails_json[i]['序號'])\n",
    "    edu.append(rails_json[i]['學歷要求'])\n",
    "    sal.append(rails_json[i]['工作待遇'])\n",
    "    exp.append(rails_json[i]['工作經歷'])\n",
    "    pro.append(rails_json[i]['工作性質'])\n",
    "    tool.extend(rails_json[i]['擅長工具'])\n",
    "    depart.extend(rails_json[i]['科系要求'].split('、'))\n",
    "    cate.append(rails_json[i]['分類'])"
   ]
  },
  {
   "cell_type": "code",
   "execution_count": 19,
   "id": "efb273d2",
   "metadata": {},
   "outputs": [
    {
     "data": {
      "text/plain": [
       "Counter({'大學': 11, '專科': 66})"
      ]
     },
     "execution_count": 19,
     "metadata": {},
     "output_type": "execute_result"
    }
   ],
   "source": [
    "collections.Counter(edu)"
   ]
  },
  {
   "cell_type": "code",
   "execution_count": 20,
   "id": "5b4e2cce",
   "metadata": {},
   "outputs": [],
   "source": [
    "rails_edu = pd.DataFrame({\n",
    "    '數量': [11, 66]\n",
    "    },\n",
    "    index=['大學', '專科'])"
   ]
  },
  {
   "cell_type": "code",
   "execution_count": 65,
   "id": "f6521548",
   "metadata": {},
   "outputs": [],
   "source": [
    "rails_edu.to_csv('rails_edu.csv', encoding='utf-8')"
   ]
  },
  {
   "cell_type": "code",
   "execution_count": 46,
   "id": "db024eb4",
   "metadata": {
    "scrolled": true
   },
   "outputs": [
    {
     "data": {
      "text/plain": [
       "Counter({'5-10年': 66, '0-1年': 4, '1-3年': 6, '3-5年': 1})"
      ]
     },
     "execution_count": 46,
     "metadata": {},
     "output_type": "execute_result"
    }
   ],
   "source": [
    "collections.Counter(exp)"
   ]
  },
  {
   "cell_type": "code",
   "execution_count": 67,
   "id": "524cac05",
   "metadata": {},
   "outputs": [],
   "source": [
    "rails_exp = pd.DataFrame({\n",
    "    '數量': [66, 4, 6, 1]\n",
    "    },\n",
    "    index=['5-10年', '0-1年', '1-3年', '3-5年'])"
   ]
  },
  {
   "cell_type": "code",
   "execution_count": 68,
   "id": "10139b83",
   "metadata": {},
   "outputs": [],
   "source": [
    "rails_exp.to_csv('rails_exp.csv', encoding='utf-8')"
   ]
  },
  {
   "cell_type": "code",
   "execution_count": 21,
   "id": "720ff3dc",
   "metadata": {
    "scrolled": false
   },
   "outputs": [
    {
     "data": {
      "text/plain": [
       "Counter({'全職': 77})"
      ]
     },
     "execution_count": 21,
     "metadata": {},
     "output_type": "execute_result"
    }
   ],
   "source": [
    "collections.Counter(pro)"
   ]
  },
  {
   "cell_type": "code",
   "execution_count": 48,
   "id": "72d552b4",
   "metadata": {
    "scrolled": true
   },
   "outputs": [
    {
     "data": {
      "text/plain": [
       "Counter({1: 65, 0: 8, 3: 4})"
      ]
     },
     "execution_count": 48,
     "metadata": {},
     "output_type": "execute_result"
    }
   ],
   "source": [
    "collections.Counter(cate)"
   ]
  },
  {
   "cell_type": "code",
   "execution_count": 49,
   "id": "5b8631aa",
   "metadata": {
    "scrolled": true
   },
   "outputs": [
    {
     "data": {
      "text/plain": [
       "[('Rails', 77),\n",
       " ('JavaScript', 69),\n",
       " ('MySQL', 67),\n",
       " ('HTML', 65),\n",
       " ('CSS', 64),\n",
       " ('Java', 62),\n",
       " ('PostgreSQL', 62),\n",
       " ('Jasmine', 61),\n",
       " ('Django', 61),\n",
       " ('Ruby', 15),\n",
       " ('AWS', 13),\n",
       " ('Git', 8),\n",
       " ('Python', 7),\n",
       " ('PHP', 6),\n",
       " ('Github', 6),\n",
       " ('VueJS', 5),\n",
       " ('ReactJS', 4),\n",
       " ('RDBMS', 3),\n",
       " ('Linux', 3),\n",
       " ('Go', 2),\n",
       " ('ASP.NET', 1),\n",
       " ('C#', 1),\n",
       " ('MSSQL', 1),\n",
       " ('HTTP', 1),\n",
       " ('Shell', 1)]"
      ]
     },
     "execution_count": 49,
     "metadata": {},
     "output_type": "execute_result"
    }
   ],
   "source": [
    "collections.Counter(tool).most_common()"
   ]
  },
  {
   "cell_type": "code",
   "execution_count": 72,
   "id": "9b2992bd",
   "metadata": {},
   "outputs": [],
   "source": [
    "rails_tool = pd.DataFrame({\n",
    "    '數量' : [77, 69, 67, 65, 64, 62, 62, 61, 61, 15, 13, 8, 7, 6, 6, 5, 4, 3, 3, 2, 1, 1, 1, 1, 1]\n",
    "    },\n",
    "    index=['Rails', 'JavaScript', 'MySQL', 'HTML', 'CSS', 'Java', 'PostgreSQL', 'Jasmine', 'Django', \n",
    "           'Ruby', 'AWS', 'Git', 'Python', 'PHP', 'Github', 'VueJS', 'ReactJS', 'RDBMS', 'Linux', 'Go', \n",
    "           'ASP.NET', 'C#', 'MSSQL', 'HTTP', 'Shell'])"
   ]
  },
  {
   "cell_type": "code",
   "execution_count": 73,
   "id": "a8a30f06",
   "metadata": {},
   "outputs": [],
   "source": [
    "rails_tool.to_csv('rails_tool.csv', encoding='utf-8')"
   ]
  },
  {
   "cell_type": "code",
   "execution_count": 28,
   "id": "2b2890c2",
   "metadata": {
    "scrolled": true
   },
   "outputs": [
    {
     "data": {
      "text/plain": [
       "Counter({'資訊工程相關': 70,\n",
       "         '其他數學及電算機科學相關': 3,\n",
       "         '資訊管理相關': 66,\n",
       "         '不拘': 7,\n",
       "         '運輸管理相關': 1,\n",
       "         '工業工程相關': 4})"
      ]
     },
     "execution_count": 28,
     "metadata": {},
     "output_type": "execute_result"
    }
   ],
   "source": [
    "collections.Counter(depart)"
   ]
  },
  {
   "cell_type": "code",
   "execution_count": 32,
   "id": "4343c3d6",
   "metadata": {},
   "outputs": [],
   "source": [
    "rails_depart = pd.DataFrame({\n",
    "    '數量': [70, 3, 66, 7, 1, 4]\n",
    "    },\n",
    "    index=['資訊工程', '數學及電算機科學', '資訊管理', '不拘', '運輸管理', '工業工程'])"
   ]
  },
  {
   "cell_type": "code",
   "execution_count": 33,
   "id": "4fecf985",
   "metadata": {},
   "outputs": [],
   "source": [
    "rails_depart.to_csv('rails_depart.csv', encoding='utf-8')"
   ]
  },
  {
   "cell_type": "code",
   "execution_count": 69,
   "id": "97e1a062",
   "metadata": {},
   "outputs": [],
   "source": [
    "rails_cate = pd.DataFrame({\n",
    "    '數量' : [65, 8, 4]\n",
    "    },\n",
    "    index=[1, 0, 3])"
   ]
  },
  {
   "cell_type": "code",
   "execution_count": 70,
   "id": "2455c6e4",
   "metadata": {},
   "outputs": [],
   "source": [
    "rails_cate.to_csv('rails_cate.csv', encoding='utf-8')"
   ]
  },
  {
   "cell_type": "code",
   "execution_count": null,
   "id": "3fcbedee",
   "metadata": {},
   "outputs": [],
   "source": [
    "#jasmine"
   ]
  },
  {
   "cell_type": "code",
   "execution_count": 4,
   "id": "3b3b2d67",
   "metadata": {
    "scrolled": false
   },
   "outputs": [
    {
     "data": {
      "text/plain": [
       "121"
      ]
     },
     "execution_count": 4,
     "metadata": {},
     "output_type": "execute_result"
    }
   ],
   "source": [
    "len(jasmine_json)"
   ]
  },
  {
   "cell_type": "code",
   "execution_count": 5,
   "id": "468fcea9",
   "metadata": {},
   "outputs": [],
   "source": [
    "idn = []\n",
    "edu = []\n",
    "sal = []\n",
    "exp = []\n",
    "pro = []\n",
    "tool = []\n",
    "depart = []\n",
    "cate = []\n",
    "\n",
    "for i in range(len(jasmine_json)):\n",
    "    idn.append(jasmine_json[i]['序號'])\n",
    "    edu.append(jasmine_json[i]['學歷要求'])\n",
    "    sal.append(jasmine_json[i]['工作待遇'])\n",
    "    exp.append(jasmine_json[i]['工作經歷'])\n",
    "    pro.append(jasmine_json[i]['工作性質'])\n",
    "    tool.extend(jasmine_json[i]['擅長工具'])\n",
    "    depart.extend(jasmine_json[i]['科系要求'].split('、'))\n",
    "    cate.append(jasmine_json[i]['分類'])"
   ]
  },
  {
   "cell_type": "code",
   "execution_count": 35,
   "id": "b1ae585d",
   "metadata": {
    "scrolled": false
   },
   "outputs": [
    {
     "data": {
      "text/plain": [
       "Counter({'專科': 121})"
      ]
     },
     "execution_count": 35,
     "metadata": {},
     "output_type": "execute_result"
    }
   ],
   "source": [
    "collections.Counter(edu)"
   ]
  },
  {
   "cell_type": "code",
   "execution_count": 3,
   "id": "449eeecb",
   "metadata": {},
   "outputs": [],
   "source": [
    "jasmine_edu = pd.DataFrame({\n",
    "    '數量': [121]\n",
    "    },\n",
    "    index=['專科'])"
   ]
  },
  {
   "cell_type": "code",
   "execution_count": 4,
   "id": "a350f1b7",
   "metadata": {},
   "outputs": [],
   "source": [
    "jasmine_edu.to_csv('jasmine_edu.csv', encoding='utf-8')"
   ]
  },
  {
   "cell_type": "code",
   "execution_count": 36,
   "id": "c7c9a351",
   "metadata": {
    "scrolled": true
   },
   "outputs": [
    {
     "data": {
      "text/plain": [
       "Counter({'5-10年': 61, '3-5年': 60})"
      ]
     },
     "execution_count": 36,
     "metadata": {},
     "output_type": "execute_result"
    }
   ],
   "source": [
    "collections.Counter(exp)"
   ]
  },
  {
   "cell_type": "code",
   "execution_count": 37,
   "id": "67cca8ad",
   "metadata": {},
   "outputs": [],
   "source": [
    "jasmine_exp = pd.DataFrame({\n",
    "    '數量': [61, 60]\n",
    "    },\n",
    "    index=['5-10年', '1-3年'])"
   ]
  },
  {
   "cell_type": "code",
   "execution_count": 38,
   "id": "821a7b58",
   "metadata": {},
   "outputs": [],
   "source": [
    "jasmine_exp.to_csv('jasmine_exp.csv', encoding='utf-8')"
   ]
  },
  {
   "cell_type": "code",
   "execution_count": 39,
   "id": "0a396d1b",
   "metadata": {
    "scrolled": true
   },
   "outputs": [
    {
     "data": {
      "text/plain": [
       "Counter({'全職': 121})"
      ]
     },
     "execution_count": 39,
     "metadata": {},
     "output_type": "execute_result"
    }
   ],
   "source": [
    "collections.Counter(pro)"
   ]
  },
  {
   "cell_type": "code",
   "execution_count": 40,
   "id": "d47fb896",
   "metadata": {
    "scrolled": true
   },
   "outputs": [
    {
     "data": {
      "text/plain": [
       "Counter({1: 61, 3: 60})"
      ]
     },
     "execution_count": 40,
     "metadata": {},
     "output_type": "execute_result"
    }
   ],
   "source": [
    "collections.Counter(cate)"
   ]
  },
  {
   "cell_type": "code",
   "execution_count": 41,
   "id": "04a450ad",
   "metadata": {},
   "outputs": [],
   "source": [
    "jasmine_cate = pd.DataFrame({\n",
    "    '數量' : [61, 60]\n",
    "    },\n",
    "    index=[1, 3])"
   ]
  },
  {
   "cell_type": "code",
   "execution_count": 42,
   "id": "8264f37b",
   "metadata": {},
   "outputs": [],
   "source": [
    "jasmine_cate.to_csv('jasmine_cate.csv', encoding='utf-8')"
   ]
  },
  {
   "cell_type": "code",
   "execution_count": 46,
   "id": "32fe0078",
   "metadata": {
    "scrolled": true
   },
   "outputs": [
    {
     "data": {
      "text/plain": [
       "Counter({'資訊工程相關': 121, '資訊管理相關': 121})"
      ]
     },
     "execution_count": 46,
     "metadata": {},
     "output_type": "execute_result"
    }
   ],
   "source": [
    "collections.Counter(depart)"
   ]
  },
  {
   "cell_type": "code",
   "execution_count": 48,
   "id": "b277cea9",
   "metadata": {},
   "outputs": [],
   "source": [
    "jasmine_depart = pd.DataFrame({\n",
    "    '數量': [121, 121]\n",
    "    },\n",
    "    index=['資訊工程', '資訊管理'])"
   ]
  },
  {
   "cell_type": "code",
   "execution_count": 49,
   "id": "e6f58885",
   "metadata": {},
   "outputs": [],
   "source": [
    "jasmine_depart.to_csv('jasmine_depart.csv', encoding='utf-8')"
   ]
  },
  {
   "cell_type": "code",
   "execution_count": 43,
   "id": "2decfd2b",
   "metadata": {},
   "outputs": [
    {
     "data": {
      "text/plain": [
       "[('Jasmine', 121),\n",
       " ('JavaScript', 121),\n",
       " ('Django', 121),\n",
       " ('Java', 61),\n",
       " ('Rails', 61),\n",
       " ('MySQL', 61),\n",
       " ('PostgreSQL', 61),\n",
       " ('HTML', 61),\n",
       " ('CSS', 61),\n",
       " ('Python', 60),\n",
       " ('Ruby', 60)]"
      ]
     },
     "execution_count": 43,
     "metadata": {},
     "output_type": "execute_result"
    }
   ],
   "source": [
    "collections.Counter(tool).most_common()"
   ]
  },
  {
   "cell_type": "code",
   "execution_count": 44,
   "id": "3e99f74d",
   "metadata": {},
   "outputs": [],
   "source": [
    "jasmine_tool = pd.DataFrame({\n",
    "    '數量' : [121, 121, 121, 61, 61, 61, 61, 61, 61, 60, 60]\n",
    "    },\n",
    "    index=['Jasmine', 'JavaScript', 'Django', 'Java', 'Rails', 'MySQL',\n",
    "           'PostgreSQL', 'HTML', 'CSS', 'Python', 'Ruby'])"
   ]
  },
  {
   "cell_type": "code",
   "execution_count": 45,
   "id": "643275a3",
   "metadata": {},
   "outputs": [],
   "source": [
    "jasmine_tool.to_csv('jasmine_tool.csv', encoding='utf-8')"
   ]
  }
 ],
 "metadata": {
  "kernelspec": {
   "display_name": "Python 3 (ipykernel)",
   "language": "python",
   "name": "python3"
  },
  "language_info": {
   "codemirror_mode": {
    "name": "ipython",
    "version": 3
   },
   "file_extension": ".py",
   "mimetype": "text/x-python",
   "name": "python",
   "nbconvert_exporter": "python",
   "pygments_lexer": "ipython3",
   "version": "3.9.13"
  }
 },
 "nbformat": 4,
 "nbformat_minor": 5
}
